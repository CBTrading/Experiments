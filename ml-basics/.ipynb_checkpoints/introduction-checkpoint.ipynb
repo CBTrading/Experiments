{
 "cells": [
  {
   "cell_type": "markdown",
   "metadata": {},
   "source": [
    "# Análisis predictivo de series temporales en el mercado\n",
    "\n",
    "## Resumen\n",
    "\n",
    "El problema de predecir el precio en un instrumento financiero ha sido ampliamente estudiado en la literatura. En general consiste en predecir la **dirección** del movimiento del precio (subida o bajada) a partir de un conjunto de indicadores técnicos y financieros que se presume están correlacionados de alguna forma con dicho precio. Dado que la información fresca que afecta al mercado se consume rápidamente, es importante considerar en qué ventana de tiempo ocurren estas correlaciones para así maximizar el poder predicivo de cada uno de los indicadores.\n",
    "\n",
    "En este ejercicio utilizaremos *Machine Learning* (ML) para hacer dichas predicciones. El problema y los datos en general se describen a continuación.\n",
    "\n",
    "<br>\n",
    "### Planteamiento del problema\n",
    "\n",
    "El problema puede plantearse, matemáticamente, de la siguiente forma:\n",
    "\n",
    "*Dado un conjunto de $M$ características (features) de la forma $\\mathbf{X}_j = (x_{1j},x_{2j},\\ldots,x_{ij},\\ldots,x_{Nj})$ y dada la variable a predecir, $\\mathbf{Y} = (y_{1},y_{2},\\ldots,y_{i},\\ldots,y_{N})$, donde cada $j$-ésima característica es un arreglo ordenado en el tiempo (esto es, una serie temporal) y $N$ es el número de ventanas temporales; predecir el siguiente valor en $\\mathbf{Y}$, es decir, predecir $y_{N+1}$.*"
   ]
  }
 ],
 "metadata": {
  "kernelspec": {
   "display_name": "Python 2",
   "language": "python",
   "name": "python2"
  },
  "language_info": {
   "codemirror_mode": {
    "name": "ipython",
    "version": 2
   },
   "file_extension": ".py",
   "mimetype": "text/x-python",
   "name": "python",
   "nbconvert_exporter": "python",
   "pygments_lexer": "ipython2",
   "version": "2.7.14"
  }
 },
 "nbformat": 4,
 "nbformat_minor": 2
}
