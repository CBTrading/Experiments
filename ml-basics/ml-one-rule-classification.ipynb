{
 "cells": [
  {
   "cell_type": "markdown",
   "metadata": {},
   "source": [
    "# One-rule classification\n",
    "\n",
    "This algorithm consist in determining the most accurate feature $\\mathbf{X}_j$ as the best classifier\n",
    "given a dataset and a target feature $\\mathbf{Y}$. The algorithm is fairly simple:\n",
    "\n",
    "```\n",
    "for each X_j in X:\n",
    "    for each possible value in X_j:\n",
    "        count the number of possible values in Y\n",
    "        assign the most frequent values in Y to each possible value in X_j\n",
    "    compute the error in this assignment: (number of true value in Y) / (frequency of that value)\n",
    "select the feature with the smallest total error\n",
    "```\n",
    "\n",
    "The best feature selected according to this algorithm will be the only predictor."
   ]
  }
 ],
 "metadata": {
  "kernelspec": {
   "display_name": "Python 2",
   "language": "python",
   "name": "python2"
  },
  "language_info": {
   "codemirror_mode": {
    "name": "ipython",
    "version": 2
   },
   "file_extension": ".py",
   "mimetype": "text/x-python",
   "name": "python",
   "nbconvert_exporter": "python",
   "pygments_lexer": "ipython2",
   "version": "2.7.14"
  }
 },
 "nbformat": 4,
 "nbformat_minor": 2
}
