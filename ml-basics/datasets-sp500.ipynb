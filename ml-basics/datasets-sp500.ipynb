{
 "cells": [
  {
   "cell_type": "markdown",
   "metadata": {},
   "source": [
    "# Conjunto de datos de S&P 500\n",
    "\n",
    "### Definiciones\n",
    "\n",
    "Comenzaremos con la suposición de que las siguientes características son suficientes para resolver el problema:\n",
    "\n",
    "- El dominio temporal ($\\mathbf{X}_1$).\n",
    "- El precio de (usar el precio con la menor entropía de entre OHLC; $\\mathbf{X}_2$).\n",
    "- El volumen ($\\mathbf{X}_3$).\n",
    "- El valor anterior en el inventario publicado por EIA ($\\mathbf{X}_4$).\n",
    "- El valor del inventario en el presente ($\\mathbf{X}_5$).\n",
    "\n",
    "Así, el número de características será $M=5$.\n",
    "\n",
    "La variable a predecir, $\\mathbf{Y}$, será simplemente signo$\\left(x_{i3}-x_{[i-1]3}\\right)$, esto es, el signo de la diferencia entre el precio en el presente y el pasado.\n",
    "\n",
    "<br><br><hr>\n",
    "## Conjunto de datos\n",
    "\n",
    "En este ejercicio se usarán dos conjuntos de datos:\n",
    "- Los precios OHLC y el volumen de WTI publicados por OANDA,\n",
    "- El nivel de inventario publicado por investing.com.\n",
    "\n",
    "Las características de los datos:\n",
    "- Muestreo del orden del minuto,\n",
    "- Zona horaria alineada con America/NY,\n",
    "- formato ISO para los tiempos en las series."
   ]
  },
  {
   "cell_type": "code",
   "execution_count": 1,
   "metadata": {},
   "outputs": [],
   "source": [
    "import os\n",
    "import numpy as np\n",
    "import matplotlib.pyplot as plt\n",
    "import seaborn as sns\n",
    "import pandas as pd\n",
    "\n",
    "sns.set(context=\"notebook\", style=\"darkgrid\", palette=\"muted\", color_codes=True)"
   ]
  },
  {
   "cell_type": "code",
   "execution_count": null,
   "metadata": {},
   "outputs": [],
   "source": []
  }
 ],
 "metadata": {
  "kernelspec": {
   "display_name": "Python 2",
   "language": "python",
   "name": "python2"
  },
  "language_info": {
   "codemirror_mode": {
    "name": "ipython",
    "version": 2
   },
   "file_extension": ".py",
   "mimetype": "text/x-python",
   "name": "python",
   "nbconvert_exporter": "python",
   "pygments_lexer": "ipython2",
   "version": "2.7.14"
  }
 },
 "nbformat": 4,
 "nbformat_minor": 2
}
