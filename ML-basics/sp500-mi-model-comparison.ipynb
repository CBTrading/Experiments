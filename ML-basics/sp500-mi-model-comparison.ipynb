{
 "cells": [
  {
   "cell_type": "code",
   "execution_count": 1,
   "metadata": {},
   "outputs": [],
   "source": [
    "import os\n",
    "import numpy as np\n",
    "import matplotlib.pyplot as plt\n",
    "import seaborn as sns\n",
    "import pandas as pd\n",
    "from sklearn.metrics import confusion_matrix\n",
    "\n",
    "sns.set(context=\"notebook\", style=\"darkgrid\", palette=\"muted\", color_codes=True)"
   ]
  },
  {
   "cell_type": "code",
   "execution_count": 2,
   "metadata": {},
   "outputs": [],
   "source": [
    "def sensitivity(tp, tn, fp, fn):\n",
    "    return tp*1.0 / (tp + fn)\n",
    "\n",
    "def specificity(tp, tn, fp, fn):\n",
    "    return tn*1.0 / (tn + fp)\n",
    "\n",
    "def accuracy(tp, tn, fp, fn):\n",
    "    return (tp + tn)*1.0 / (tp + tn + fp + fn)\n",
    "\n",
    "def precision(tp, tn, fp, fn):\n",
    "    return tp*1.0 / (tp + fp)\n",
    "\n",
    "def recall(tp, tn, fp, fn):\n",
    "    return tp*1.0 / (tp + fn)"
   ]
  },
  {
   "cell_type": "code",
   "execution_count": 3,
   "metadata": {},
   "outputs": [],
   "source": [
    "# dfs = [pd.read_csv(\"/home/mejia/Downloads/\"+file) for root, subs, files in os.walk(\"/home/mejia/Downloads/\") for file in files if file.startswith(\"ML SP500\") and file.endswith(\".csv\")]\n",
    "\n",
    "# kws = \"AP BPM BDT DF DJ LR NN SVM\".split()\n",
    "# data = pd.DataFrame(data={\"Class\": dfs[0][\"class\"]})\n",
    "# for i, df in enumerate(dfs):\n",
    "#     data[\"Labels_{}\".format(kws[i])] = df[\"Scored Labels\"]\n",
    "#     data[\"Probabilities_{}\".format(kws[i])] = df[\"Scored Probabilities\"]\n",
    "\n",
    "# data.to_csv(\"../data/processed/sp500-mi-results.csv\")"
   ]
  },
  {
   "cell_type": "code",
   "execution_count": 4,
   "metadata": {},
   "outputs": [],
   "source": [
    "ml_results = pd.read_csv(\"../data/processed/sp500-mi-results.csv\")"
   ]
  },
  {
   "cell_type": "code",
   "execution_count": 5,
   "metadata": {},
   "outputs": [],
   "source": [
    "models = {\n",
    "    \"AP\": \"Averaged Perceptron\",\n",
    "    \"BPM\": \"Bayes Point Machine\",\n",
    "    \"BDT\": \"Boosted Descision Tree\",\n",
    "    \"DF\": \"Decision Forest\",\n",
    "    \"DJ\": \"Decision Jungle\",\n",
    "    \"LR\": \"Logistic Regression\",\n",
    "    \"NN\": \"Neural Network\",\n",
    "    \"SVM\": \"Support Vector Machine\"\n",
    "}\n",
    "model_evaluation = pd.DataFrame(\n",
    "    index=models.values(),\n",
    "    columns=[\"Sensitivity\", \"Specificity\", \"Accuracy\", \"Precision\"],\n",
    "    data=np.nan\n",
    ")\n",
    "for kw in models:\n",
    "    tn, fp, fn, tp = confusion_matrix(ml_results[\"Class\"], ml_results[\"Labels_{}\".format(kw)]).ravel()\n",
    "    \n",
    "    model_evaluation.loc[models[kw], \"Sensitivity\"] = sensitivity(tp, tn, fp, fn)\n",
    "    model_evaluation.loc[models[kw], \"Specificity\"] = specificity(tp, tn, fp, fn)\n",
    "    model_evaluation.loc[models[kw], \"Accuracy\"] = accuracy(tp, tn, fp, fn)\n",
    "    model_evaluation.loc[models[kw], \"Precision\"] = precision(tp, tn, fp, fn)"
   ]
  },
  {
   "cell_type": "code",
   "execution_count": 6,
   "metadata": {},
   "outputs": [
    {
     "data": {
      "text/html": [
       "<div>\n",
       "<style scoped>\n",
       "    .dataframe tbody tr th:only-of-type {\n",
       "        vertical-align: middle;\n",
       "    }\n",
       "\n",
       "    .dataframe tbody tr th {\n",
       "        vertical-align: top;\n",
       "    }\n",
       "\n",
       "    .dataframe thead th {\n",
       "        text-align: right;\n",
       "    }\n",
       "</style>\n",
       "<table border=\"1\" class=\"dataframe\">\n",
       "  <thead>\n",
       "    <tr style=\"text-align: right;\">\n",
       "      <th></th>\n",
       "      <th>Sensitivity</th>\n",
       "      <th>Specificity</th>\n",
       "      <th>Accuracy</th>\n",
       "      <th>Precision</th>\n",
       "    </tr>\n",
       "  </thead>\n",
       "  <tbody>\n",
       "    <tr>\n",
       "      <th>Averaged Perceptron</th>\n",
       "      <td>0.947507</td>\n",
       "      <td>0.080838</td>\n",
       "      <td>0.542657</td>\n",
       "      <td>0.540419</td>\n",
       "    </tr>\n",
       "    <tr>\n",
       "      <th>Support Vector Machine</th>\n",
       "      <td>0.863517</td>\n",
       "      <td>0.176647</td>\n",
       "      <td>0.542657</td>\n",
       "      <td>0.544702</td>\n",
       "    </tr>\n",
       "    <tr>\n",
       "      <th>Decision Jungle</th>\n",
       "      <td>0.664042</td>\n",
       "      <td>0.368263</td>\n",
       "      <td>0.525874</td>\n",
       "      <td>0.545259</td>\n",
       "    </tr>\n",
       "    <tr>\n",
       "      <th>Neural Network</th>\n",
       "      <td>0.897638</td>\n",
       "      <td>0.158683</td>\n",
       "      <td>0.552448</td>\n",
       "      <td>0.548957</td>\n",
       "    </tr>\n",
       "    <tr>\n",
       "      <th>Boosted Descision Tree</th>\n",
       "      <td>0.979003</td>\n",
       "      <td>0.017964</td>\n",
       "      <td>0.530070</td>\n",
       "      <td>0.532097</td>\n",
       "    </tr>\n",
       "    <tr>\n",
       "      <th>Decision Forest</th>\n",
       "      <td>0.889764</td>\n",
       "      <td>0.116766</td>\n",
       "      <td>0.528671</td>\n",
       "      <td>0.534700</td>\n",
       "    </tr>\n",
       "    <tr>\n",
       "      <th>Logistic Regression</th>\n",
       "      <td>0.748031</td>\n",
       "      <td>0.251497</td>\n",
       "      <td>0.516084</td>\n",
       "      <td>0.532710</td>\n",
       "    </tr>\n",
       "    <tr>\n",
       "      <th>Bayes Point Machine</th>\n",
       "      <td>0.950131</td>\n",
       "      <td>0.029940</td>\n",
       "      <td>0.520280</td>\n",
       "      <td>0.527697</td>\n",
       "    </tr>\n",
       "  </tbody>\n",
       "</table>\n",
       "</div>"
      ],
      "text/plain": [
       "                        Sensitivity  Specificity  Accuracy  Precision\n",
       "Averaged Perceptron        0.947507     0.080838  0.542657   0.540419\n",
       "Support Vector Machine     0.863517     0.176647  0.542657   0.544702\n",
       "Decision Jungle            0.664042     0.368263  0.525874   0.545259\n",
       "Neural Network             0.897638     0.158683  0.552448   0.548957\n",
       "Boosted Descision Tree     0.979003     0.017964  0.530070   0.532097\n",
       "Decision Forest            0.889764     0.116766  0.528671   0.534700\n",
       "Logistic Regression        0.748031     0.251497  0.516084   0.532710\n",
       "Bayes Point Machine        0.950131     0.029940  0.520280   0.527697"
      ]
     },
     "execution_count": 6,
     "metadata": {},
     "output_type": "execute_result"
    }
   ],
   "source": [
    "model_evaluation"
   ]
  }
 ],
 "metadata": {
  "kernelspec": {
   "display_name": "Python 2",
   "language": "python",
   "name": "python2"
  },
  "language_info": {
   "codemirror_mode": {
    "name": "ipython",
    "version": 2
   },
   "file_extension": ".py",
   "mimetype": "text/x-python",
   "name": "python",
   "nbconvert_exporter": "python",
   "pygments_lexer": "ipython2",
   "version": "2.7.14"
  }
 },
 "nbformat": 4,
 "nbformat_minor": 2
}
