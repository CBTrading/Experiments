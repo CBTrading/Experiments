{
 "cells": [
  {
   "cell_type": "code",
   "execution_count": 5,
   "metadata": {},
   "outputs": [],
   "source": [
    "import os\n",
    "import numpy as np\n",
    "import matplotlib.pyplot as plt\n",
    "import seaborn as sns\n",
    "import pandas as pd\n",
    "from sklearn.metrics import confusion_matrix\n",
    "\n",
    "sns.set(context=\"notebook\", style=\"darkgrid\", palette=\"muted\", color_codes=True)"
   ]
  },
  {
   "cell_type": "code",
   "execution_count": 38,
   "metadata": {},
   "outputs": [],
   "source": [
    "def sensitivity(tp, tn, fp, fn):\n",
    "    return tp*1.0 / (tp + fn)\n",
    "\n",
    "def specificity(tp, tn, fp, fn):\n",
    "    return tn*1.0 / (tn + fp)\n",
    "\n",
    "def accuracy(tp, tn, fp, fn):\n",
    "    return (tp + tn)*1.0 / (tp + tn + fp + fn)\n",
    "\n",
    "def precision(tp, tn, fp, fn):\n",
    "    return tp*1.0 / (tp + fp)\n",
    "\n",
    "def recall(tp, tn, fp, fn):\n",
    "    return tp*1.0 / (tp + fn)"
   ]
  },
  {
   "cell_type": "code",
   "execution_count": 23,
   "metadata": {},
   "outputs": [],
   "source": [
    "ml_results = pd.read_csv(\"../data/processed/sp500-ti-results.csv\")"
   ]
  },
  {
   "cell_type": "code",
   "execution_count": 39,
   "metadata": {},
   "outputs": [],
   "source": [
    "models = {\n",
    "    \"AP\": \"Averaged Perceptron\",\n",
    "    \"BPM\": \"Bayes Point Machine\",\n",
    "    \"BDT\": \"Boosted Descision Tree\",\n",
    "    \"DF\": \"Decision Forest\",\n",
    "    \"DJ\": \"Decision Jungle\",\n",
    "    \"LR\": \"Logistic Regression\",\n",
    "    \"NN\": \"Neural Network\",\n",
    "    \"SVM\": \"Support Vector Machine\"\n",
    "}\n",
    "model_evaluation = pd.DataFrame(\n",
    "    index=models.values(),\n",
    "    columns=[\"Sensitivity\", \"Specificity\", \"Accuracy\", \"Precision\"],\n",
    "    data=np.nan\n",
    ")\n",
    "for kw in models:\n",
    "    tn, fp, fn, tp = confusion_matrix(ml_results[\"Class\"], ml_results[\"Labels_{}\".format(kw)]).ravel()\n",
    "    \n",
    "    model_evaluation.loc[models[kw], \"Sensitivity\"] = sensitivity(tp, tn, fp, fn)\n",
    "    model_evaluation.loc[models[kw], \"Specificity\"] = specificity(tp, tn, fp, fn)\n",
    "    model_evaluation.loc[models[kw], \"Accuracy\"] = accuracy(tp, tn, fp, fn)\n",
    "    model_evaluation.loc[models[kw], \"Precision\"] = precision(tp, tn, fp, fn)"
   ]
  },
  {
   "cell_type": "code",
   "execution_count": 40,
   "metadata": {},
   "outputs": [
    {
     "data": {
      "text/html": [
       "<div>\n",
       "<style scoped>\n",
       "    .dataframe tbody tr th:only-of-type {\n",
       "        vertical-align: middle;\n",
       "    }\n",
       "\n",
       "    .dataframe tbody tr th {\n",
       "        vertical-align: top;\n",
       "    }\n",
       "\n",
       "    .dataframe thead th {\n",
       "        text-align: right;\n",
       "    }\n",
       "</style>\n",
       "<table border=\"1\" class=\"dataframe\">\n",
       "  <thead>\n",
       "    <tr style=\"text-align: right;\">\n",
       "      <th></th>\n",
       "      <th>Sensitivity</th>\n",
       "      <th>Specificity</th>\n",
       "      <th>Accuracy</th>\n",
       "      <th>Precision</th>\n",
       "    </tr>\n",
       "  </thead>\n",
       "  <tbody>\n",
       "    <tr>\n",
       "      <th>Averaged Perceptron</th>\n",
       "      <td>1.000000</td>\n",
       "      <td>0.000000</td>\n",
       "      <td>0.533052</td>\n",
       "      <td>0.533052</td>\n",
       "    </tr>\n",
       "    <tr>\n",
       "      <th>Support Vector Machine</th>\n",
       "      <td>1.000000</td>\n",
       "      <td>0.000000</td>\n",
       "      <td>0.533052</td>\n",
       "      <td>0.533052</td>\n",
       "    </tr>\n",
       "    <tr>\n",
       "      <th>Decision Jungle</th>\n",
       "      <td>0.873351</td>\n",
       "      <td>0.144578</td>\n",
       "      <td>0.533052</td>\n",
       "      <td>0.538211</td>\n",
       "    </tr>\n",
       "    <tr>\n",
       "      <th>Neural Network</th>\n",
       "      <td>0.395778</td>\n",
       "      <td>0.626506</td>\n",
       "      <td>0.503516</td>\n",
       "      <td>0.547445</td>\n",
       "    </tr>\n",
       "    <tr>\n",
       "      <th>Boosted Descision Tree</th>\n",
       "      <td>1.000000</td>\n",
       "      <td>0.000000</td>\n",
       "      <td>0.533052</td>\n",
       "      <td>0.533052</td>\n",
       "    </tr>\n",
       "    <tr>\n",
       "      <th>Decision Forest</th>\n",
       "      <td>0.788918</td>\n",
       "      <td>0.216867</td>\n",
       "      <td>0.521800</td>\n",
       "      <td>0.534884</td>\n",
       "    </tr>\n",
       "    <tr>\n",
       "      <th>Logistic Regression</th>\n",
       "      <td>0.973615</td>\n",
       "      <td>0.039157</td>\n",
       "      <td>0.537271</td>\n",
       "      <td>0.536337</td>\n",
       "    </tr>\n",
       "    <tr>\n",
       "      <th>Bayes Point Machine</th>\n",
       "      <td>0.915567</td>\n",
       "      <td>0.084337</td>\n",
       "      <td>0.527426</td>\n",
       "      <td>0.533026</td>\n",
       "    </tr>\n",
       "  </tbody>\n",
       "</table>\n",
       "</div>"
      ],
      "text/plain": [
       "                        Sensitivity  Specificity  Accuracy  Precision\n",
       "Averaged Perceptron        1.000000     0.000000  0.533052   0.533052\n",
       "Support Vector Machine     1.000000     0.000000  0.533052   0.533052\n",
       "Decision Jungle            0.873351     0.144578  0.533052   0.538211\n",
       "Neural Network             0.395778     0.626506  0.503516   0.547445\n",
       "Boosted Descision Tree     1.000000     0.000000  0.533052   0.533052\n",
       "Decision Forest            0.788918     0.216867  0.521800   0.534884\n",
       "Logistic Regression        0.973615     0.039157  0.537271   0.536337\n",
       "Bayes Point Machine        0.915567     0.084337  0.527426   0.533026"
      ]
     },
     "execution_count": 40,
     "metadata": {},
     "output_type": "execute_result"
    }
   ],
   "source": [
    "model_evaluation"
   ]
  }
 ],
 "metadata": {
  "kernelspec": {
   "display_name": "Python 2",
   "language": "python",
   "name": "python2"
  },
  "language_info": {
   "codemirror_mode": {
    "name": "ipython",
    "version": 2
   },
   "file_extension": ".py",
   "mimetype": "text/x-python",
   "name": "python",
   "nbconvert_exporter": "python",
   "pygments_lexer": "ipython2",
   "version": "2.7.14"
  }
 },
 "nbformat": 4,
 "nbformat_minor": 2
}
