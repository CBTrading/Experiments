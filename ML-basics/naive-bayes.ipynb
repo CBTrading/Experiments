{
 "cells": [
  {
   "cell_type": "markdown",
   "metadata": {},
   "source": [
    "# Naïve Bayes\n",
    "\n",
    "This algorithm assigns a class $\\hat{c}_k$ from all the possible classes in $\\mathbf{C}$, to each $y_i$ in $\\mathbf{Y}$ using the Bayes Theorem as follows:\n",
    "\n",
    "$$\n",
    "P\\left(\\mathbf{C}\\,\\middle|\\,\\{\\mathbf{X}_j\\}\\right) = \\frac{\\mathcal{L}\\left(\\{\\mathbf{X}_j\\}\\,\\middle|\\,\\mathbf{C}\\right) \\times P\\left(\\mathbf{C}\\right)}{P\\left(\\mathbf{X}_j\\right)}\n",
    "$$\n",
    "\n",
    "where:\n",
    "\n",
    "$P\\left(\\mathbf{C}\\,\\middle|\\,\\{\\mathbf{X}_j\\}\\right)$ is the posterior probability distribution, that is, given the observed feature set $\\{\\mathbf{X}_j\\}$.\n",
    "\n",
    "$\\mathcal{L}\\left(\\{\\mathbf{X}_j\\}\\,\\middle|\\,\\mathbf{C}\\right)$ is the likelihood *function* (not distribution) which holds information on the probability of having observed the feature set $\\{\\mathbf{X}_j\\}$ taking as ground truth the classes $\\mathbf{C}$.\n",
    "\n",
    "$P\\left(\\mathbf{C}\\right)$ is the prior probability distribution of $\\mathbf{C}$, that is, the probability of each class in the absence of any observation in the feature set.\n",
    "\n",
    "$P\\left(\\mathbf{X}_j\\right)$ this is the posterior probability distribution integrated over all classes. It is also called the evidence.\n",
    "\n",
    "Thus, given a set of features $\\{\\mathbf{X}_j\\}$ and our pejudices about the possible classes $\\mathbf{C}$, this algorithm seeks the maximum of the posterior probability that assigns the class $\\hat{c}_k$ to the set $\\{\\mathbf{X}_j\\}$.\n"
   ]
  }
 ],
 "metadata": {
  "kernelspec": {
   "display_name": "Python 2",
   "language": "python",
   "name": "python2"
  },
  "language_info": {
   "codemirror_mode": {
    "name": "ipython",
    "version": 2
   },
   "file_extension": ".py",
   "mimetype": "text/x-python",
   "name": "python",
   "nbconvert_exporter": "python",
   "pygments_lexer": "ipython2",
   "version": "2.7.14"
  }
 },
 "nbformat": 4,
 "nbformat_minor": 2
}
