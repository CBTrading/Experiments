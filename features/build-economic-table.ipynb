{
 "cells": [
  {
   "cell_type": "code",
   "execution_count": 1,
   "metadata": {},
   "outputs": [],
   "source": [
    "import numpy as np\n",
    "import pandas as pd\n",
    "import os, string\n",
    "\n",
    "def shorten(name, join=\"-\"):\n",
    "    items = name.split(\"-\")\n",
    "    items[0] = items[0].capitalize()\n",
    "    return string.join(map(lambda item: item.strip().upper() if len(item) <= 3 else item.strip(), items), join)"
   ]
  },
  {
   "cell_type": "code",
   "execution_count": 2,
   "metadata": {},
   "outputs": [],
   "source": [
    "file_list = sorted([file for root, subs, files in os.walk(\"../data/raw/investing\") for file in files if file.endswith(\".csv\")])\n",
    "\n",
    "tables = {}\n",
    "for file in file_list:\n",
    "    name = string.join(file.replace(\".csv\", \"\").split(\"-\")[:-1], \"-\")\n",
    "    \n",
    "    tables[name] = pd.read_csv(\"../data/raw/investing/{}\".format(file), index_col=\"Datetime\").sort_index()\n",
    "    if \"gdp\" in name:\n",
    "        tables[name].drop(columns=\"Quarter\", inplace=True)\n",
    "        tables[name] = tables[name].shift(-3)\n",
    "\n",
    "kw, raw_table = tables.popitem()\n",
    "raw_table.columns = [\"{}-{}\".format(col, shorten(kw)) for col in raw_table.columns]\n",
    "raw_table.index.name = \"Date\"\n",
    "while tables:\n",
    "    try:\n",
    "        kw, other = tables.popitem()\n",
    "        other.columns = [\"{}-{}\".format(col, shorten(kw)) for col in other.columns]\n",
    "        other.index.name = \"Date\"\n",
    "        raw_table = raw_table.join(other, how=\"outer\")\n",
    "    except:\n",
    "        break\n",
    "\n",
    "raw_table.index = pd.DatetimeIndex(raw_table.index)"
   ]
  },
  {
   "cell_type": "code",
   "execution_count": 3,
   "metadata": {},
   "outputs": [],
   "source": [
    "# save raw\n",
    "raw_table.dropna(how=\"all\", axis=0, inplace=True)\n",
    "raw_table.columns = map(lambda col: shorten(col), raw_table.columns)\n",
    "raw_table.reset_index().to_csv(\"../data/processed/filter-analysis/economic-indicators-raw.csv\", index=False)\n",
    "\n",
    "# save short\n",
    "# TODO: use resample instead of interpolation\n",
    "short_table = raw_table.copy()\n",
    "short_table = short_table.loc[short_table.index>\"1998-01-01\",:]\n",
    "short_table.columns = map(lambda col: shorten(col, \" \"), short_table.columns)\n",
    "short_table = short_table.dropna(how=\"all\")\n",
    "short_table.reset_index().to_csv(\"../data/processed/filter-analysis/economic-indicators-short.csv\", index=False)\n",
    "\n",
    "# save actual for predictions\n",
    "actual_table = raw_table.copy()\n",
    "actual_table = actual_table.loc[actual_table.index>\"1998-01-01\",:]\n",
    "actual_table = actual_table.filter(like=\"Actual-\")\n",
    "actual_table.columns = map(lambda col: shorten(col.replace(\"Actual-\", \"\"), \" \"), actual_table.columns)\n",
    "actual_table = actual_table.dropna(how=\"all\")\n",
    "actual_table.reset_index().to_csv(\"../data/processed/filter-analysis/economic-indicators-short-actual.csv\", index=False)"
   ]
  }
 ],
 "metadata": {
  "kernelspec": {
   "display_name": "Python 2",
   "language": "python",
   "name": "python2"
  },
  "language_info": {
   "codemirror_mode": {
    "name": "ipython",
    "version": 2
   },
   "file_extension": ".py",
   "mimetype": "text/x-python",
   "name": "python",
   "nbconvert_exporter": "python",
   "pygments_lexer": "ipython2",
   "version": "2.7.14"
  }
 },
 "nbformat": 4,
 "nbformat_minor": 2
}
