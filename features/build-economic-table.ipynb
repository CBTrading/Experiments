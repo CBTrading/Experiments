{
 "cells": [
  {
   "cell_type": "code",
   "execution_count": 1,
   "metadata": {},
   "outputs": [],
   "source": [
    "import pandas as pd\n",
    "import os, string\n",
    "\n",
    "def shorten(name):\n",
    "    items = name.split(\"-\")\n",
    "    if len(items[0]) <= 3:\n",
    "        if not items[1:]:\n",
    "            return items[0]\n",
    "        else:\n",
    "            return items[0]+\"-\"+reduce(lambda i, j: i+j, map(lambda i: i[0], items[1:]))\n",
    "    else:\n",
    "        return reduce(lambda i, j: i+j, map(lambda i: i[0], items))"
   ]
  },
  {
   "cell_type": "code",
   "execution_count": 2,
   "metadata": {},
   "outputs": [],
   "source": [
    "file_list = sorted([file for root, subs, files in os.walk(\"../data/raw/investing\") for file in files if file.endswith(\".csv\")])"
   ]
  },
  {
   "cell_type": "code",
   "execution_count": 3,
   "metadata": {},
   "outputs": [],
   "source": [
    "tables = {}\n",
    "for file in file_list:\n",
    "    tables[string.join(file.replace(\".csv\", \"\").split(\"-\")[:-1], \"-\")] = pd.read_csv(\"../data/raw/investing/{}\".format(file), index_col=\"Datetime\").sort_index()"
   ]
  },
  {
   "cell_type": "code",
   "execution_count": 4,
   "metadata": {},
   "outputs": [],
   "source": [
    "kw, table = tables.popitem()\n",
    "table.columns = [\"{}-{}\".format(col, shorten(kw)) for col in table.columns]\n",
    "while tables:\n",
    "    try:\n",
    "        kw, other = tables.popitem()\n",
    "        table = table.join(other, how=\"outer\", rsuffix=\"-{}\".format(shorten(kw)))\n",
    "    except:\n",
    "        break"
   ]
  },
  {
   "cell_type": "code",
   "execution_count": 5,
   "metadata": {},
   "outputs": [],
   "source": [
    "table.reset_index().to_excel(\"../data/raw/investing/economic-calendars.xlsx\", index=False)"
   ]
  }
 ],
 "metadata": {
  "kernelspec": {
   "display_name": "Python 2",
   "language": "python",
   "name": "python2"
  },
  "language_info": {
   "codemirror_mode": {
    "name": "ipython",
    "version": 2
   },
   "file_extension": ".py",
   "mimetype": "text/x-python",
   "name": "python",
   "nbconvert_exporter": "python",
   "pygments_lexer": "ipython2",
   "version": "2.7.14"
  }
 },
 "nbformat": 4,
 "nbformat_minor": 2
}
