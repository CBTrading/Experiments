{
 "cells": [
  {
   "cell_type": "markdown",
   "metadata": {},
   "source": [
    "# Selección de features para el S&P 500\n",
    "\n",
    "## Procedimientos\n",
    "\n",
    "- Descargar datos:\n",
    "    - Serie S&P 500\n",
    "    - Serie para las compañias\n",
    "    - Series para las monedas\n",
    "    - Series para los indices\n",
    "- Calcular retornos\n",
    "- Calcular variable de clase\n",
    "- Calcular desfase temporal del retorno\n",
    "- Calcular indicadores técnicos\n",
    "- Calcular filtrado de features:\n",
    "    - Filtrar features con mayor poder predictivo con la variable de clase\n",
    "    - Filtrar features más independientes entre sí"
   ]
  },
  {
   "cell_type": "code",
   "execution_count": 1,
   "metadata": {},
   "outputs": [
    {
     "name": "stdout",
     "output_type": "stream",
     "text": [
      "Populating the interactive namespace from numpy and matplotlib\n"
     ]
    }
   ],
   "source": [
    "%pylab inline\n",
    "\n",
    "import pandas as pd\n",
    "import itertools as it\n",
    "\n",
    "from pyCBT.providers.scrappers import slickcharts, wikipedia"
   ]
  },
  {
   "cell_type": "code",
   "execution_count": 2,
   "metadata": {},
   "outputs": [],
   "source": [
    "sp500_slick = slickcharts.get_sp500_metadata()\n",
    "\n",
    "sp500_slick.set_index(keys=\"Symbol\", inplace=True)\n",
    "sp500_slick.sort_index(inplace=True)\n",
    "\n",
    "sp500_wiki = wikipedia.get_sp500_metadata()\n",
    "\n",
    "sp500_wiki.set_index(keys=\"Symbol\", inplace=True)\n",
    "sp500_wiki.sort_index(inplace=True)\n",
    "sp500_wiki.drop(columns=\"Company\", inplace=True)"
   ]
  },
  {
   "cell_type": "code",
   "execution_count": 3,
   "metadata": {},
   "outputs": [
    {
     "data": {
      "text/html": [
       "<div>\n",
       "<style scoped>\n",
       "    .dataframe tbody tr th:only-of-type {\n",
       "        vertical-align: middle;\n",
       "    }\n",
       "\n",
       "    .dataframe tbody tr th {\n",
       "        vertical-align: top;\n",
       "    }\n",
       "\n",
       "    .dataframe thead th {\n",
       "        text-align: right;\n",
       "    }\n",
       "</style>\n",
       "<table border=\"1\" class=\"dataframe\">\n",
       "  <thead>\n",
       "    <tr style=\"text-align: right;\">\n",
       "      <th></th>\n",
       "      <th>Sector</th>\n",
       "      <th>Company</th>\n",
       "      <th>Weight</th>\n",
       "    </tr>\n",
       "    <tr>\n",
       "      <th>Symbol</th>\n",
       "      <th></th>\n",
       "      <th></th>\n",
       "      <th></th>\n",
       "    </tr>\n",
       "  </thead>\n",
       "  <tbody>\n",
       "    <tr>\n",
       "      <th>A</th>\n",
       "      <td>Health Care</td>\n",
       "      <td>Agilent Technologies Inc.</td>\n",
       "      <td>233.0</td>\n",
       "    </tr>\n",
       "    <tr>\n",
       "      <th>AAL</th>\n",
       "      <td>Industrials</td>\n",
       "      <td>American Airlines Group Inc.</td>\n",
       "      <td>248.0</td>\n",
       "    </tr>\n",
       "    <tr>\n",
       "      <th>AAP</th>\n",
       "      <td>Consumer Discretionary</td>\n",
       "      <td>Advance Auto Parts Inc.</td>\n",
       "      <td>467.0</td>\n",
       "    </tr>\n",
       "    <tr>\n",
       "      <th>AAPL</th>\n",
       "      <td>Information Technology</td>\n",
       "      <td>Apple Inc.</td>\n",
       "      <td>1.0</td>\n",
       "    </tr>\n",
       "    <tr>\n",
       "      <th>ABBV</th>\n",
       "      <td>Health Care</td>\n",
       "      <td>AbbVie Inc.</td>\n",
       "      <td>33.0</td>\n",
       "    </tr>\n",
       "  </tbody>\n",
       "</table>\n",
       "</div>"
      ],
      "text/plain": [
       "                        Sector                       Company  Weight\n",
       "Symbol                                                              \n",
       "A                  Health Care     Agilent Technologies Inc.   233.0\n",
       "AAL                Industrials  American Airlines Group Inc.   248.0\n",
       "AAP     Consumer Discretionary       Advance Auto Parts Inc.   467.0\n",
       "AAPL    Information Technology                    Apple Inc.     1.0\n",
       "ABBV               Health Care                   AbbVie Inc.    33.0"
      ]
     },
     "execution_count": 3,
     "metadata": {},
     "output_type": "execute_result"
    }
   ],
   "source": [
    "sp500_md = pd.concat((sp500_wiki, sp500_slick), axis=1)\n",
    "sp500_md.head()"
   ]
  }
 ],
 "metadata": {
  "kernelspec": {
   "display_name": "Python 2",
   "language": "python",
   "name": "python2"
  },
  "language_info": {
   "codemirror_mode": {
    "name": "ipython",
    "version": 2
   },
   "file_extension": ".py",
   "mimetype": "text/x-python",
   "name": "python",
   "nbconvert_exporter": "python",
   "pygments_lexer": "ipython2",
   "version": "2.7.14"
  }
 },
 "nbformat": 4,
 "nbformat_minor": 2
}
