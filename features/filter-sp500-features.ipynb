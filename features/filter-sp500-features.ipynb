{
 "cells": [
  {
   "cell_type": "markdown",
   "metadata": {},
   "source": [
    "# Selección de features para el S&P 500\n",
    "\n",
    "## Procedimientos\n",
    "\n",
    "- Cargar features y variable de clase\n",
    "- Calcular filtrado de features:\n",
    "    - Filtrar features con mayor poder predictivo con la variable de clase\n",
    "    - Filtrar features más independientes entre sí\n",
    "    - Reducir espacio de features (PCA)"
   ]
  },
  {
   "cell_type": "code",
   "execution_count": 1,
   "metadata": {},
   "outputs": [
    {
     "name": "stdout",
     "output_type": "stream",
     "text": [
      "Populating the interactive namespace from numpy and matplotlib\n"
     ]
    }
   ],
   "source": [
    "%pylab inline"
   ]
  },
  {
   "cell_type": "code",
   "execution_count": 2,
   "metadata": {},
   "outputs": [],
   "source": [
    "import itertools as it\n",
    "import pickle as pk\n",
    "import pandas as pd\n",
    "import seaborn as sns\n",
    "\n",
    "from sklearn.preprocessing import MinMaxScaler, Imputer\n",
    "from sklearn.feature_selection import SelectKBest, SelectPercentile, SelectFdr, SelectFpr, SelectFromModel, RFECV\n",
    "from sklearn.feature_selection import chi2, f_classif, mutual_info_classif\n",
    "from sklearn.ensemble import ExtraTreesClassifier\n",
    "\n",
    "import pymrmr as mrmr\n",
    "\n",
    "sns.set(context=\"notebook\", style=\"ticks\", palette=\"muted\", color_codes=True)"
   ]
  },
  {
   "cell_type": "code",
   "execution_count": 3,
   "metadata": {},
   "outputs": [],
   "source": [
    "X = pd.read_csv(\"../data/processed/sp500-ml/features-raw.csv\", index_col=0, parse_dates=True, header=[0, 1])\n",
    "Y = pd.read_csv(\"../data/processed/sp500-ml/target-raw.csv\", index_col=\"Date\", parse_dates=True)\n",
    "\n",
    "X.columns = X.columns.droplevel(\"Type\")\n",
    "\n",
    "# remove ascient data\n",
    "X.fillna(method=\"ffill\", inplace=True)\n",
    "X.dropna(how=\"all\", axis=\"index\", inplace=True)\n",
    "Y = Y.reindex(index=X.index)\n",
    "Y.dropna(how=\"all\", axis=\"index\", inplace=True)\n",
    "X = X.reindex(index=Y.index)\n",
    "y = Y.Class"
   ]
  },
  {
   "cell_type": "code",
   "execution_count": 4,
   "metadata": {},
   "outputs": [],
   "source": [
    "# fill NANs using imputer\n",
    "imp = Imputer()\n",
    "X_filled = imp.fit_transform(X, y)\n",
    "# rescale features\n",
    "scaler = MinMaxScaler()\n",
    "X_scaled = pd.DataFrame(index=X.index, columns=X.columns, data=scaler.fit_transform(X_filled))\n",
    "# define columns metadata\n",
    "icols = arange(X_scaled.columns.size, dtype=int)\n",
    "ncols = X_scaled.columns.values"
   ]
  },
  {
   "cell_type": "code",
   "execution_count": 5,
   "metadata": {},
   "outputs": [],
   "source": [
    "# define selectors\n",
    "selector_names = [\"K-best\", \"Percentile\", \"Fdr\", \"Fpr\", \"fromModel\", \"Recursive\", \"mRMR\"]\n",
    "selector_functions = [SelectKBest, SelectPercentile, SelectFdr, SelectFpr, SelectFromModel, RFECV, mrmr.mRMR]\n",
    "# define selector parameters\n",
    "score_names = [\"Chi square\", r\"F-statistic\", r\"Mutual Inf.\"]\n",
    "score_functions = [chi2, f_classif, mutual_info_classif]\n",
    "selector_params = [\n",
    "    list(it.product(score_functions, range(1, icols.size, 7))),\n",
    "    list(it.product(score_functions, [5, 10])),\n",
    "    list(it.product(score_functions, [0.01, 0.05])),\n",
    "    list(it.product(score_functions, [0.01, 0.05])),\n",
    "    [ExtraTreesClassifier(criterion=\"entropy\")],\n",
    "    [ExtraTreesClassifier(criterion=\"entropy\")],\n",
    "    list(it.product([\"MIQ\", \"MID\"], range(1, icols.size, 7)))\n",
    "]\n",
    "selector_params_h = [\n",
    "    list(it.product(score_names, range(1, icols.size, 7))),\n",
    "    list(it.product(score_names, [5, 10])),\n",
    "    list(it.product(score_names, [0.01, 0.05])),\n",
    "    list(it.product(score_names, [0.01, 0.05])),\n",
    "    [\"Decision Tree\"],\n",
    "    [\"Decision Tree\"],\n",
    "    list(it.product([\"MIQ\", \"MID\"], range(1, icols.size, 7)))\n",
    "]\n",
    "param_groups = [\n",
    "    {\"par-{}\".format(j+1): pars for j, pars in enumerate(selector_params_h[i])} for i in xrange(len(selector_names))\n",
    "]\n",
    "# define tables\n",
    "selected_features = pd.DataFrame(\n",
    "    index=pd.Index(data=ncols, name=\"Feature\"),\n",
    "    columns=pd.MultiIndex.from_tuples(\n",
    "        tuples=[(selector_names[j], \"par-{}\".format(i+1)) for j in xrange(len(selector_names))\n",
    "                for i in xrange(len(selector_params[j]))],\n",
    "        names=[\"Selector\", \"Parameter group\"]\n",
    "    ),\n",
    "    data=True\n",
    ")\n",
    "selected_scores = pd.DataFrame(\n",
    "    index=pd.Index(data=ncols, name=\"Feature\"),\n",
    "    columns=pd.MultiIndex.from_tuples(\n",
    "        tuples=[(selector_names[j], \"par-{}\".format(i+1)) for j in xrange(len(selector_names))\n",
    "                for i in xrange(len(selector_params[j]))],\n",
    "        names=[\"Selector\", \"Parameter group\"]\n",
    "    ),\n",
    "    data=None\n",
    ")"
   ]
  },
  {
   "cell_type": "code",
   "execution_count": 9,
   "metadata": {},
   "outputs": [
    {
     "name": "stdout",
     "output_type": "stream",
     "text": [
      "K-best\n",
      "Percentile\n",
      "Fdr\n",
      "Fpr\n",
      "fromModel\n",
      "Recursive\n",
      "mRMR\n"
     ]
    }
   ],
   "source": [
    "for i in xrange(len(selector_names)):\n",
    "    print selector_names[i]\n",
    "    \n",
    "    selected = zeros(ncols.size, dtype=bool)\n",
    "    for j, params in enumerate(selector_params[i]):\n",
    "        if selector_names[i] in [\"K-best\", \"Percentile\", \"Fdr\", \"Fpr\"]:\n",
    "            metric, threshold = params\n",
    "            selector = selector_functions[i](metric, threshold)\n",
    "            selector.fit(X_scaled, y)\n",
    "    \n",
    "            scores = selector.scores_\n",
    "            scores /= scores.sum()\n",
    "            \n",
    "            if selector_names[i] == \"K-best\":\n",
    "                selected[scores.argsort()[-threshold:]] = True\n",
    "            elif selector_names[i] == \"Percentile\":\n",
    "                selected = scores > percentile(scores, q=threshold)\n",
    "            elif selector_names[i] in [\"Fdr\", \"Fpr\"]:\n",
    "                selected = selector.pvalues_ <= threshold\n",
    "        elif selector_names[i] == \"fromModel\":\n",
    "            estimator = params\n",
    "            estimator.fit(X_scaled, y)\n",
    "            model = SelectFromModel(estimator, prefit=True)\n",
    "            \n",
    "            scores = estimator.feature_importances_\n",
    "            scores /= scores.sum()\n",
    "            \n",
    "            selected = scores >= scores.mean()\n",
    "        elif selector_names[i] == \"Recursive\":\n",
    "            estimator = params\n",
    "            rfecv = RFECV(estimator, scoring=\"accuracy\")\n",
    "            rfecv.fit(X_scaled, y)\n",
    "            \n",
    "            scores = rfecv.grid_scores_\n",
    "            scores /= scores.sum()\n",
    "            \n",
    "            selected = rfecv.ranking_ == 1\n",
    "        else:\n",
    "            method, threshold = params\n",
    "            minRedmaxRel = mrmr.mRMR(X_scaled, method, threshold)\n",
    "            \n",
    "            scores = zeros(ncols.size, dtype=float)\n",
    "            scores[[list(ncols).index(col_name) for col_name in minRedmaxRel]] = 1.0\n",
    "            scores /= scores.sum()\n",
    "            \n",
    "            selected = scores > 0.0\n",
    "\n",
    "        selected_features[selector_names[i], \"par-{}\".format(j+1)] = selected\n",
    "        selected_scores[selector_names[i], \"par-{}\".format(j+1)] = scores"
   ]
  },
  {
   "cell_type": "code",
   "execution_count": 10,
   "metadata": {},
   "outputs": [
    {
     "data": {
      "image/png": "[encoded data removed]",
      "text/plain": [
       "<matplotlib.figure.Figure at 0x7f866dfa7790>"
      ]
     },
     "metadata": {},
     "output_type": "display_data"
    }
   ],
   "source": [
    "fig, ax = subplots(1, figsize=(12, 5))\n",
    "\n",
    "selector_groups = selected_features.groupby(axis=\"columns\", level=\"Selector\", sort=False)\n",
    "for name in selector_groups.groups:\n",
    "    df = selector_groups.get_group(name)\n",
    "    summed = df.sum(axis=\"columns\")\n",
    "    summed.plot(kind=\"bar\", label=name, ax=ax)\n",
    "# ax.legend(loc=0)\n",
    "ax.set_xticks(icols)\n",
    "ax.set_xticklabels(ncols, rotation=90)\n",
    "fig.tight_layout()\n",
    "fig.savefig(\"../data/img/sp500-features-relevance-all.png\", bbox_inches=\"tight\")"
   ]
  },
  {
   "cell_type": "code",
   "execution_count": 11,
   "metadata": {},
   "outputs": [
    {
     "name": "stdout",
     "output_type": "stream",
     "text": [
      "K-best ['S&P 500', 'DJI', 'FCHI', 'NYA', 'Nikkei', 'Utilities', 'USDJPY', '%R', 'CCI', 'RSI', 'ADP nonfarm employment change', 'GDP', 'Interest rate decision', 'Nonfarm payrolls', 'Unemployment rate']\n",
      "Percentile ['S&P 500', 'DAX', 'DJA', 'DJI', 'DXY', 'FCHI', 'FTSE', 'HSI', 'NYA', 'Nikkei', 'SSE', 'VIX', 'VXN', 'VXO', 'Consumer stap.', 'Energy', 'Financials', 'Industrials', 'Inf. tech.', 'Materials', 'Real state', 'Utilities', 'AAPL', 'AMZN', 'BRK-B', 'FB', 'GOOG', 'JNJ', 'JPM', 'MSFT', 'XOM', 'Crude Oil', 'Gold', 'EURUSD', 'GBPUSD', 'USDCAD', 'USDCNY', 'USDJPY', '%R', 'CCI', 'MOM', 'ROC', 'RSI', 'ADP nonfarm employment change', 'Average hourly earnings', 'CB consumer confidence', 'Core CPI', 'GDP', 'Interest rate decision', 'Nonfarm payrolls', 'PPI', 'Unemployment rate']\n",
      "Fdr ['S&P 500', 'DJI']\n",
      "Fpr ['S&P 500', 'DJI']\n",
      "fromModel fromModel ['S&P 500', 'DAX', 'DJI', 'DXY', 'FCHI', 'FTSE', 'HSI', 'NASDAQ', 'NYA', 'Nikkei', 'VIX', 'VXN', 'VXO', 'AAPL', 'AMZN', 'BRK-B', 'JNJ', 'JPM', 'MSFT', 'XOM', 'Crude Oil', 'Gold', 'EURUSD', 'GBPUSD', 'USDCAD', 'USDCNY', 'USDJPY', '%R', 'CCI', 'MOM', 'ROC', 'RSI', 'Average hourly earnings', 'Core CPI', 'Nonfarm payrolls']\n",
      "Recursive Recursive ['S&P 500', 'DAX', 'DJA', 'DJI', 'DXY', 'FCHI', 'FTSE', 'HSI', 'NASDAQ', 'NYA', 'Nikkei', 'SSE', 'VIX', 'VXN', 'VXO', 'Consumer stap.', 'Materials', 'Utilities', 'AAPL', 'AMZN', 'BRK-B', 'FB', 'JNJ', 'JPM', 'MSFT', 'XOM', 'Crude Oil', 'Gold', 'EURUSD', 'GBPUSD', 'USDCAD', 'USDCNY', 'USDJPY', '%R', 'CCI', 'MOM', 'ROC', 'RSI', 'ADP nonfarm employment change', 'Average hourly earnings', 'CB consumer confidence', 'Core CPI', 'GDP', 'Interest rate decision', 'Nonfarm payrolls', 'PPI', 'Unemployment rate']\n",
      "mRMR ['DJI', 'DXY', 'FCHI', 'NYA', 'Consumer disc.', 'Financials', 'AMZN', 'Gold', '%R', 'Average hourly earnings', 'Core CPI', 'GDP', 'Nonfarm payrolls', 'PPI', 'Unemployment rate']\n"
     ]
    }
   ],
   "source": [
    "for name in selector_names:\n",
    "    try:\n",
    "        print name, list(ncols[selected_features[name][\"par-3\"]])\n",
    "    except:\n",
    "        print name, list(ncols[selected_features[name][\"par-1\"]])"
   ]
  }
 ],
 "metadata": {
  "kernelspec": {
   "display_name": "Python 2",
   "language": "python",
   "name": "python2"
  },
  "language_info": {
   "codemirror_mode": {
    "name": "ipython",
    "version": 2
   },
   "file_extension": ".py",
   "mimetype": "text/x-python",
   "name": "python",
   "nbconvert_exporter": "python",
   "pygments_lexer": "ipython2",
   "version": "2.7.14"
  }
 },
 "nbformat": 4,
 "nbformat_minor": 2
}
