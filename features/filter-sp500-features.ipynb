{
 "cells": [
  {
   "cell_type": "markdown",
   "metadata": {},
   "source": [
    "# Selección de features para el S&P 500\n",
    "\n",
    "## Procedimientos\n",
    "\n",
    "- Descargar datos:\n",
    "    - Serie S&P 500\n",
    "    - Serie para las compañias\n",
    "    - Series para las monedas\n",
    "    - Series para los indices\n",
    "- Calcular retornos\n",
    "- Calcular variable de clase\n",
    "- Calcular desfase temporal del retorno\n",
    "- Calcular indicadores técnicos\n",
    "- Calcular filtrado de features:\n",
    "    - Filtrar features con mayor poder predictivo con la variable de clase\n",
    "    - Filtrar features más independientes entre sí"
   ]
  },
  {
   "cell_type": "code",
   "execution_count": 1,
   "metadata": {},
   "outputs": [
    {
     "name": "stdout",
     "output_type": "stream",
     "text": [
      "Populating the interactive namespace from numpy and matplotlib\n"
     ]
    }
   ],
   "source": [
    "%pylab inline\n",
    "\n",
    "import pickle as pk\n",
    "import pandas as pd\n",
    "import itertools as it\n",
    "from pandas_datareader import data\n",
    "import fix_yahoo_finance\n",
    "\n",
    "fix_yahoo_finance.pdr_override()\n",
    "\n",
    "from datetime import datetime\n",
    "\n",
    "from pyCBT.providers.scrappers import slickcharts, wikipedia\n",
    "from pyCBT.common.files import exist\n",
    "from talib import RSI, CCI, ROC, MOM, WILLR"
   ]
  },
  {
   "cell_type": "code",
   "execution_count": 2,
   "metadata": {},
   "outputs": [
    {
     "data": {
      "text/html": [
       "<div>\n",
       "<style scoped>\n",
       "    .dataframe tbody tr th:only-of-type {\n",
       "        vertical-align: middle;\n",
       "    }\n",
       "\n",
       "    .dataframe tbody tr th {\n",
       "        vertical-align: top;\n",
       "    }\n",
       "\n",
       "    .dataframe thead th {\n",
       "        text-align: right;\n",
       "    }\n",
       "</style>\n",
       "<table border=\"1\" class=\"dataframe\">\n",
       "  <thead>\n",
       "    <tr style=\"text-align: right;\">\n",
       "      <th></th>\n",
       "      <th>Sector</th>\n",
       "      <th>Company</th>\n",
       "      <th>Weight</th>\n",
       "    </tr>\n",
       "    <tr>\n",
       "      <th>Symbol</th>\n",
       "      <th></th>\n",
       "      <th></th>\n",
       "      <th></th>\n",
       "    </tr>\n",
       "  </thead>\n",
       "  <tbody>\n",
       "    <tr>\n",
       "      <th>A</th>\n",
       "      <td>Health Care</td>\n",
       "      <td>Agilent Technologies Inc.</td>\n",
       "      <td>240.0</td>\n",
       "    </tr>\n",
       "    <tr>\n",
       "      <th>AAL</th>\n",
       "      <td>Industrials</td>\n",
       "      <td>American Airlines Group Inc.</td>\n",
       "      <td>271.0</td>\n",
       "    </tr>\n",
       "    <tr>\n",
       "      <th>AAP</th>\n",
       "      <td>Consumer Discretionary</td>\n",
       "      <td>Advance Auto Parts Inc.</td>\n",
       "      <td>458.0</td>\n",
       "    </tr>\n",
       "    <tr>\n",
       "      <th>AAPL</th>\n",
       "      <td>Information Technology</td>\n",
       "      <td>Apple Inc.</td>\n",
       "      <td>1.0</td>\n",
       "    </tr>\n",
       "    <tr>\n",
       "      <th>ABBV</th>\n",
       "      <td>Health Care</td>\n",
       "      <td>AbbVie Inc.</td>\n",
       "      <td>28.0</td>\n",
       "    </tr>\n",
       "  </tbody>\n",
       "</table>\n",
       "</div>"
      ],
      "text/plain": [
       "                        Sector                       Company  Weight\n",
       "Symbol                                                              \n",
       "A                  Health Care     Agilent Technologies Inc.   240.0\n",
       "AAL                Industrials  American Airlines Group Inc.   271.0\n",
       "AAP     Consumer Discretionary       Advance Auto Parts Inc.   458.0\n",
       "AAPL    Information Technology                    Apple Inc.     1.0\n",
       "ABBV               Health Care                   AbbVie Inc.    28.0"
      ]
     },
     "execution_count": 2,
     "metadata": {},
     "output_type": "execute_result"
    }
   ],
   "source": [
    "sp500_slick = slickcharts.get_sp500_metadata()\n",
    "sp500_slick.set_index(keys=\"Symbol\", inplace=True)\n",
    "sp500_slick.sort_index(inplace=True)\n",
    "\n",
    "sp500_wiki = wikipedia.get_sp500_metadata()\n",
    "sp500_wiki.set_index(keys=\"Symbol\", inplace=True)\n",
    "sp500_wiki.sort_index(inplace=True)\n",
    "sp500_wiki.drop(columns=\"Company\", inplace=True)\n",
    "\n",
    "sp500_md = pd.concat((sp500_wiki, sp500_slick), axis=1)\n",
    "sp500_md.head()"
   ]
  },
  {
   "cell_type": "code",
   "execution_count": 3,
   "metadata": {},
   "outputs": [
    {
     "name": "stdout",
     "output_type": "stream",
     "text": [
      "[*********************100%***********************]  1 of 1 downloaded\n",
      "[*********************100%***********************]  1 of 1 downloaded\n",
      "[*********************100%***********************]  1 of 1 downloaded\n",
      "[*********************100%***********************]  1 of 1 downloaded\n",
      "[*********************100%***********************]  1 of 1 downloaded\n",
      "[*********************100%***********************]  1 of 1 downloaded\n",
      "[*********************100%***********************]  1 of 1 downloaded\n",
      "[*********************100%***********************]  1 of 1 downloaded\n",
      "[*********************100%***********************]  1 of 1 downloaded\n",
      "[*********************100%***********************]  1 of 1 downloaded\n"
     ]
    }
   ],
   "source": [
    "# definir fechas\n",
    "from_date, to_date = datetime(2005, 1, 1), datetime.today().date()\n",
    "# descargar datos\n",
    "# TODO: use alpha-vantage instead\n",
    "indices_yahoo = {\n",
    "    \"DJI\": \"^DJI\",\n",
    "    \"HSI\": \"^HSI\",\n",
    "    \"FCHI\": \"^FCHI\",\n",
    "    \"NYA\": \"^NYA\",\n",
    "    \"VIX\": \"^VIX\"\n",
    "}\n",
    "# TODO: use alpha-vantage instead\n",
    "indices_stooq = {\n",
    "    \"DXY\": \"USD_I\",\n",
    "    \"FTSE\": \"X.F\",\n",
    "    \"DAX\": \"^DAX\",\n",
    "    \"DJA\": \"DIA.US\",\n",
    "    \"NASDAQ\": \"^NDX\",\n",
    "    \"N225\": \"^NKX\",\n",
    "    \"SSE\": \"^SHC\",\n",
    "    \"VXN\": \"R3.C\",\n",
    "    \"VXO\": \"VI.F\"\n",
    "}\n",
    "# TODO: use alpha-vantage instead\n",
    "stocks_stooq = {\n",
    "    \"AAPL\": \"AAPL.US\",\n",
    "    \"MSFT\": \"MSFT.US\",\n",
    "    \"AMZN\": \"AMZN.US\",\n",
    "    \"FB\": \"FB.US\",\n",
    "    \"JPM\": \"JPM.US\",\n",
    "    \"BRK.B\": \"BRK-B.US\",\n",
    "    \"JNJ\": \"JNJ.US\",\n",
    "    \"GOOG\": \"GOOG.US\",\n",
    "    \"XOM\": \"XOM.US\"\n",
    "}\n",
    "# TODO: use pyCBT instead\n",
    "currencies_yahoo = {\n",
    "    \"USDCAD\": \"CAD=X\",\n",
    "    \"GBPUSD\": \"GBPUSD=X\",\n",
    "    \"USDCNY\": \"CNY=X\",\n",
    "    \"USDJPY\": \"JPY=X\",\n",
    "    \"EURUSD\": \"EURUSD=X\"\n",
    "}\n",
    "\n",
    "if False:#exist(\"../data/pickles/filter-sp500-datasets.p\"):\n",
    "    sp500, major_stocks, major_indices, major_currencies = pk.load(open(\"../data/pickles/filter-sp500-datasets.p\", \"rb\"))\n",
    "else:\n",
    "    sp500 = data.get_data_stooq(\"^SPX\")\n",
    "\n",
    "    major_stocks, major_indices, major_currencies = {}, {}, {}\n",
    "    \n",
    "    for ticker in indices_yahoo:\n",
    "        major_indices[ticker] = data.get_data_yahoo(indices_yahoo[ticker], from_date, to_date)\n",
    "    for ticker in indices_stooq:\n",
    "        major_indices[ticker] = data.get_data_stooq(indices_stooq[ticker])\n",
    "    for ticker in stocks_stooq:\n",
    "        major_stocks[ticker] = data.get_data_stooq(stocks_stooq[ticker])\n",
    "    for ticker in currencies_yahoo:\n",
    "        major_currencies[ticker] = data.get_data_yahoo(currencies_yahoo[ticker], from_date, to_date)\n",
    "        \n",
    "    pk.dump((sp500, major_stocks, major_indices, major_currencies), open(\"../data/pickles/filter-sp500-datasets.p\", \"wb\"))"
   ]
  },
  {
   "cell_type": "code",
   "execution_count": 4,
   "metadata": {},
   "outputs": [
    {
     "ename": "AttributeError",
     "evalue": "'DataFrame' object has no attribute 'Close'",
     "output_type": "error",
     "traceback": [
      "\u001b[1;31m---------------------------------------------------------------------------\u001b[0m",
      "\u001b[1;31mAttributeError\u001b[0m                            Traceback (most recent call last)",
      "\u001b[1;32m<ipython-input-4-9dcf56481dba>\u001b[0m in \u001b[0;36m<module>\u001b[1;34m()\u001b[0m\n\u001b[0;32m      3\u001b[0m \u001b[1;32mfor\u001b[0m \u001b[0md\u001b[0m \u001b[1;32min\u001b[0m \u001b[1;33m[\u001b[0m\u001b[0mmajor_stocks\u001b[0m\u001b[1;33m,\u001b[0m \u001b[0mmajor_indices\u001b[0m\u001b[1;33m,\u001b[0m \u001b[0mmajor_currencies\u001b[0m\u001b[1;33m]\u001b[0m\u001b[1;33m:\u001b[0m\u001b[1;33m\u001b[0m\u001b[0m\n\u001b[0;32m      4\u001b[0m     \u001b[1;32mfor\u001b[0m \u001b[0mticker\u001b[0m \u001b[1;32min\u001b[0m \u001b[0msorted\u001b[0m\u001b[1;33m(\u001b[0m\u001b[0md\u001b[0m\u001b[1;33m)\u001b[0m\u001b[1;33m:\u001b[0m\u001b[1;33m\u001b[0m\u001b[0m\n\u001b[1;32m----> 5\u001b[1;33m         \u001b[0mmaster_table\u001b[0m\u001b[1;33m[\u001b[0m\u001b[0mticker\u001b[0m\u001b[1;33m]\u001b[0m \u001b[1;33m=\u001b[0m \u001b[0md\u001b[0m\u001b[1;33m[\u001b[0m\u001b[0mticker\u001b[0m\u001b[1;33m]\u001b[0m\u001b[1;33m.\u001b[0m\u001b[0mClose\u001b[0m\u001b[1;33m.\u001b[0m\u001b[0mshift\u001b[0m\u001b[1;33m(\u001b[0m\u001b[1;33m-\u001b[0m\u001b[1;36m1\u001b[0m\u001b[1;33m)\u001b[0m\u001b[1;33m\u001b[0m\u001b[0m\n\u001b[0m\u001b[0;32m      6\u001b[0m \u001b[1;31m# filtrar NANs\u001b[0m\u001b[1;33m\u001b[0m\u001b[1;33m\u001b[0m\u001b[0m\n\u001b[0;32m      7\u001b[0m \u001b[0mmaster_table\u001b[0m\u001b[1;33m.\u001b[0m\u001b[0mdropna\u001b[0m\u001b[1;33m(\u001b[0m\u001b[0mhow\u001b[0m\u001b[1;33m=\u001b[0m\u001b[1;34m\"all\"\u001b[0m\u001b[1;33m,\u001b[0m \u001b[0maxis\u001b[0m\u001b[1;33m=\u001b[0m\u001b[1;36m0\u001b[0m\u001b[1;33m)\u001b[0m\u001b[1;33m\u001b[0m\u001b[0m\n",
      "\u001b[1;32m/home/mejia/Projects/CBT/env/lib/python2.7/site-packages/pandas/core/generic.pyc\u001b[0m in \u001b[0;36m__getattr__\u001b[1;34m(self, name)\u001b[0m\n\u001b[0;32m   3612\u001b[0m             \u001b[1;32mif\u001b[0m \u001b[0mname\u001b[0m \u001b[1;32min\u001b[0m \u001b[0mself\u001b[0m\u001b[1;33m.\u001b[0m\u001b[0m_info_axis\u001b[0m\u001b[1;33m:\u001b[0m\u001b[1;33m\u001b[0m\u001b[0m\n\u001b[0;32m   3613\u001b[0m                 \u001b[1;32mreturn\u001b[0m \u001b[0mself\u001b[0m\u001b[1;33m[\u001b[0m\u001b[0mname\u001b[0m\u001b[1;33m]\u001b[0m\u001b[1;33m\u001b[0m\u001b[0m\n\u001b[1;32m-> 3614\u001b[1;33m             \u001b[1;32mreturn\u001b[0m \u001b[0mobject\u001b[0m\u001b[1;33m.\u001b[0m\u001b[0m__getattribute__\u001b[0m\u001b[1;33m(\u001b[0m\u001b[0mself\u001b[0m\u001b[1;33m,\u001b[0m \u001b[0mname\u001b[0m\u001b[1;33m)\u001b[0m\u001b[1;33m\u001b[0m\u001b[0m\n\u001b[0m\u001b[0;32m   3615\u001b[0m \u001b[1;33m\u001b[0m\u001b[0m\n\u001b[0;32m   3616\u001b[0m     \u001b[1;32mdef\u001b[0m \u001b[0m__setattr__\u001b[0m\u001b[1;33m(\u001b[0m\u001b[0mself\u001b[0m\u001b[1;33m,\u001b[0m \u001b[0mname\u001b[0m\u001b[1;33m,\u001b[0m \u001b[0mvalue\u001b[0m\u001b[1;33m)\u001b[0m\u001b[1;33m:\u001b[0m\u001b[1;33m\u001b[0m\u001b[0m\n",
      "\u001b[1;31mAttributeError\u001b[0m: 'DataFrame' object has no attribute 'Close'"
     ]
    }
   ],
   "source": [
    "# construir tabla master\n",
    "master_table = pd.DataFrame(index=sp500.index, data=None)\n",
    "for d in [major_stocks, major_indices, major_currencies]:\n",
    "    for ticker in sorted(d):\n",
    "        master_table[ticker] = d[ticker].Close.shift(-1)\n",
    "# filtrar NANs\n",
    "master_table.dropna(how=\"all\", axis=0)\n",
    "print master_table.index[0], master_table.index[-1]\n",
    "# calcular retornos\n",
    "Y_return = sp500.Close.pct_change()\n",
    "X_return = master_table.pct_change()\n",
    "# calcular indicadores técnicos: rsi, williams_r, cci_symbol, roc, mom\n",
    "X_techin = pd.DataFrame(index=sp500.index, data=None)\n",
    "X_techin[\"RSI\"] = RSI(sp500.Close.shift(-1), 5)\n",
    "X_techin[\"%R\"] = WILLR(sp500.High.shift(-1), sp500.Low.shift(-1), sp500.Close.shift(-1), 5)\n",
    "X_techin[\"CCI\"] = CCI(sp500.High.shift(-1), sp500.Low.shift(-1), sp500.Close.shift(-1), 5)\n",
    "X_techin[\"ROC\"] = ROC(sp500.Close.shift(-1), 5)\n",
    "X_techin[\"MOM\"] = MOM(sp500.Close.shift(-1), 5)\n",
    "# concatenar retornos + indicadores técnicos\n",
    "X = pd.concat((X_return, X_techin))\n",
    "Y = Y_return.astype(int)"
   ]
  }
 ],
 "metadata": {
  "kernelspec": {
   "display_name": "Python 2",
   "language": "python",
   "name": "python2"
  },
  "language_info": {
   "codemirror_mode": {
    "name": "ipython",
    "version": 2
   },
   "file_extension": ".py",
   "mimetype": "text/x-python",
   "name": "python",
   "nbconvert_exporter": "python",
   "pygments_lexer": "ipython2",
   "version": "2.7.14"
  }
 },
 "nbformat": 4,
 "nbformat_minor": 2
}
