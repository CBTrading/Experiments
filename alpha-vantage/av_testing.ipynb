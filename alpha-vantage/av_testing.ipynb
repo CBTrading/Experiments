{
 "cells": [
  {
   "cell_type": "code",
   "execution_count": 1,
   "metadata": {},
   "outputs": [
    {
     "name": "stdout",
     "output_type": "stream",
     "text": [
      "Populating the interactive namespace from numpy and matplotlib\n"
     ]
    }
   ],
   "source": [
    "%pylab inline\n",
    "import pandas as pd\n",
    "from alpha_vantage.timeseries import TimeSeries"
   ]
  },
  {
   "cell_type": "code",
   "execution_count": 2,
   "metadata": {},
   "outputs": [
    {
     "data": {
      "image/png": "[encoded data removed]",
      "text/plain": [
       "<matplotlib.figure.Figure at 0x7f3ed9cd4610>"
      ]
     },
     "metadata": {},
     "output_type": "display_data"
    }
   ],
   "source": [
    "ts = TimeSeries(key=\"RL0YBD0NPUE3QYQ6\", output_format=\"pandas\")\n",
    "sp500, _ = ts.get_daily(\"SPX\", outputsize=\"full\")\n",
    "sp500.index = pd.to_datetime(sp500.index)\n",
    "col_mapping = {\n",
    "    \"5. volume\": \"Volume\",\n",
    "    \"4. close\": \"Close\",\n",
    "    \"2. high\": \"High\",\n",
    "    \"1. open\": \"Open\",\n",
    "    \"3. low\": \"Low\"\n",
    "}\n",
    "sp500.rename(col_mapping, axis=\"columns\", inplace=True)\n",
    "sp500.head()\n",
    "\n",
    "sp500.Close.plot()\n",
    "plt.show()"
   ]
  },
  {
   "cell_type": "code",
   "execution_count": 3,
   "metadata": {},
   "outputs": [
    {
     "data": {
      "text/html": [
       "<div>\n",
       "<style scoped>\n",
       "    .dataframe tbody tr th:only-of-type {\n",
       "        vertical-align: middle;\n",
       "    }\n",
       "\n",
       "    .dataframe tbody tr th {\n",
       "        vertical-align: top;\n",
       "    }\n",
       "\n",
       "    .dataframe thead th {\n",
       "        text-align: right;\n",
       "    }\n",
       "</style>\n",
       "<table border=\"1\" class=\"dataframe\">\n",
       "  <thead>\n",
       "    <tr style=\"text-align: right;\">\n",
       "      <th></th>\n",
       "      <th>Company</th>\n",
       "      <th>Symbol</th>\n",
       "      <th>Weight</th>\n",
       "    </tr>\n",
       "    <tr>\n",
       "      <th>Rank</th>\n",
       "      <th></th>\n",
       "      <th></th>\n",
       "      <th></th>\n",
       "    </tr>\n",
       "  </thead>\n",
       "  <tbody>\n",
       "    <tr>\n",
       "      <th>1</th>\n",
       "      <td>Apple Inc.</td>\n",
       "      <td>AAPL</td>\n",
       "      <td>1.0</td>\n",
       "    </tr>\n",
       "    <tr>\n",
       "      <th>2</th>\n",
       "      <td>Microsoft Corporation</td>\n",
       "      <td>MSFT</td>\n",
       "      <td>2.0</td>\n",
       "    </tr>\n",
       "    <tr>\n",
       "      <th>3</th>\n",
       "      <td>Amazon.com Inc.</td>\n",
       "      <td>AMZN</td>\n",
       "      <td>3.0</td>\n",
       "    </tr>\n",
       "    <tr>\n",
       "      <th>4</th>\n",
       "      <td>Facebook Inc. Class A</td>\n",
       "      <td>FB</td>\n",
       "      <td>4.0</td>\n",
       "    </tr>\n",
       "    <tr>\n",
       "      <th>5</th>\n",
       "      <td>Berkshire Hathaway Inc. Class B</td>\n",
       "      <td>BRK.B</td>\n",
       "      <td>5.0</td>\n",
       "    </tr>\n",
       "  </tbody>\n",
       "</table>\n",
       "</div>"
      ],
      "text/plain": [
       "                              Company Symbol  Weight\n",
       "Rank                                                \n",
       "1                          Apple Inc.   AAPL     1.0\n",
       "2               Microsoft Corporation   MSFT     2.0\n",
       "3                     Amazon.com Inc.   AMZN     3.0\n",
       "4               Facebook Inc. Class A     FB     4.0\n",
       "5     Berkshire Hathaway Inc. Class B  BRK.B     5.0"
      ]
     },
     "execution_count": 3,
     "metadata": {},
     "output_type": "execute_result"
    }
   ],
   "source": [
    "import urllib2\n",
    "import lxml.html as LH\n",
    "\n",
    "slick = urllib2.urlopen(\"https://www.slickcharts.com/sp500\")\n",
    "html = slick.read()\n",
    "\n",
    "slick_content = LH.fromstring(html)\n",
    "table = slick_content.get_element_by_id(\"example-1\")\n",
    "data = [[cell.forms[0].form_values()[0][1] if j==2 else cell.text_content() for j, cell in enumerate(tr.xpath('td'))] for tr in table.xpath('//tr')]\n",
    "\n",
    "sp500_details = pd.DataFrame(data[1:], columns=[cell.text_content() for cell in tr.xpath('//th') for tr in table.xpath('//thead/tr')])\n",
    "sp500_details.Weight = sp500_details[\"Rank Weight\".split()].applymap(eval)\n",
    "sp500_details.set_index(\"Rank\", drop=True, inplace=True)\n",
    "sp500_details.head()"
   ]
  },
  {
   "cell_type": "code",
   "execution_count": 4,
   "metadata": {},
   "outputs": [
    {
     "data": {
      "text/plain": [
       "<matplotlib.axes._subplots.AxesSubplot at 0x7f3ea5c4d510>"
      ]
     },
     "execution_count": 4,
     "metadata": {},
     "output_type": "execute_result"
    },
    {
     "data": {
      "image/png": "[encoded data removed]",
      "text/plain": [
       "<matplotlib.figure.Figure at 0x7f3ea4ed7950>"
      ]
     },
     "metadata": {},
     "output_type": "display_data"
    }
   ],
   "source": [
    "weights = sp500_details.Weight/sp500_details.Weight.sum()*100.\n",
    "weights.cumsum().plot()"
   ]
  }
 ],
 "metadata": {
  "kernelspec": {
   "display_name": "Python 2",
   "language": "python",
   "name": "python2"
  },
  "language_info": {
   "codemirror_mode": {
    "name": "ipython",
    "version": 2
   },
   "file_extension": ".py",
   "mimetype": "text/x-python",
   "name": "python",
   "nbconvert_exporter": "python",
   "pygments_lexer": "ipython2",
   "version": "2.7.14"
  }
 },
 "nbformat": 4,
 "nbformat_minor": 2
}
